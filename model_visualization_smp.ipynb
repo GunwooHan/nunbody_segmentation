{
 "cells": [
  {
   "cell_type": "code",
   "execution_count": 9,
   "id": "d5b97544-2ac7-4df7-961b-fbc7f27872a1",
   "metadata": {},
   "outputs": [],
   "source": [
    "# pip install pandas\n",
    "# pip install webcolors\n",
    "# pip install seaborn"
   ]
  },
  {
   "cell_type": "code",
   "execution_count": 2,
   "id": "777ff787-9431-478a-a6b0-91fc17a0011f",
   "metadata": {
    "tags": []
   },
   "outputs": [],
   "source": [
    "# confusion matrix **\n",
    "# train/val random 10개 뽑아서 5장 이미지 5장 마스크 5장 이미지 5장 마스크 **\n",
    "# test random 10개 뽑아서 5장 이미지 5장 마스크 5장 이미지 5장 마스크 **\n",
    "# class별 val mIoU\n",
    "# easydict\n",
    "\n",
    "import os\n",
    "import random\n",
    "import argparse\n",
    "import cv2\n",
    "import numpy as np\n",
    "import pandas as pd\n",
    "import webcolors\n",
    "import sklearn\n",
    "import torch\n",
    "import torch.nn as nn\n",
    "import torch.optim as optim\n",
    "from torch.nn import functional as F\n",
    "from torch.utils.data import Dataset, DataLoader\n",
    "from torch.utils.data import random_split\n",
    "from torchvision.datasets import MNIST\n",
    "from torchvision import transforms\n",
    "import matplotlib.pyplot as plt\n",
    "from matplotlib.patches import Patch\n",
    "from pycocotools.coco import COCO\n",
    "import segmentation_models_pytorch as smp\n",
    "from torchvision import models\n",
    "from tqdm import tqdm\n",
    "import albumentations as A\n",
    "from albumentations.pytorch import ToTensorV2\n",
    "# from torchinfo import summary\n",
    "from sklearn.metrics import confusion_matrix\n",
    "import seaborn as sns\n",
    "import pytorch_lightning as pl\n",
    "from transform import make_transform\n",
    "from model import SmpModel\n",
    "from datasets import PoseDataset\n",
    "device = \"cuda\" if torch.cuda.is_available() else \"cpu\""
   ]
  },
  {
   "cell_type": "code",
   "execution_count": null,
   "id": "79646cde-27a8-434c-a396-acb3ea8407c8",
   "metadata": {},
   "outputs": [],
   "source": [
    "from torchvision import models\n",
    "from torchsummary import summary"
   ]
  },
  {
   "cell_type": "code",
   "execution_count": 3,
   "id": "d058a308-2339-4717-9289-f8d65e1c82f7",
   "metadata": {},
   "outputs": [],
   "source": [
    "train_path = 'data/train'\n",
    "val_path = 'data/val'\n",
    "# test_path = 'test'\n",
    "batch_size = 1\n",
    "\n",
    "class_colormap = pd.DataFrame({'name': ['background',\n",
    "                'body',\n",
    "                'R-hand',\n",
    "                'L-hand',\n",
    "                'L-foot',\n",
    "                'R-foot',\n",
    "                'R-thigh',\n",
    "                'L-thigh',\n",
    "                'R-calf',\n",
    "                'L-calf',\n",
    "                'L-arm',\n",
    "                'R-arm',\n",
    "                'L-forearm',\n",
    "                'R-forearm',\n",
    "                'head'],\n",
    "                 'r': [0, 192, 0  , 0  , 128, 64 , 64 , 192, 192, 64 , 128, 0  , 0  , 64 , 192],\n",
    "                 'g': [0, 0  , 128, 128, 0  , 0  , 0  , 128, 192, 64 , 0  , 0  , 128, 128, 192],\n",
    "                 'b': [0, 128, 192, 64 , 0  , 128, 192, 64 , 128, 128, 192, 128, 0  , 192, 192]})\n",
    "\n",
    "category_names = ['background', 'body','R-hand', 'L-hand','L-foot','R-foot', 'R-thigh', 'L-thigh',  'R-calf','L-calf',  'L-arm', 'R-arm', 'L-forearm','R-forearm','head']\n",
    "\n",
    "def collate_fn(batch):\n",
    "    return tuple(zip(*batch))\n",
    "\n",
    "########################### DataLoader define ###########################\n",
    "    \n",
    "def create_trash_label_colormap():\n",
    "    \"\"\"Creates a label colormap used in Trash segmentation.\n",
    "    Returns:\n",
    "        A colormap for visualizing segmentation results.\n",
    "    \"\"\"\n",
    "    colormap = np.zeros((15, 3), dtype=np.uint8)\n",
    "    for inex, (_, r, g, b) in enumerate(class_colormap.values):\n",
    "        colormap[inex] = [r, g, b]\n",
    "    \n",
    "    return colormap\n",
    "\n",
    "def label_to_color_image(label):\n",
    "\n",
    "    if label.ndim != 2:\n",
    "        raise ValueError('Expect 2-D input label')\n",
    "\n",
    "    colormap = create_trash_label_colormap()\n",
    "\n",
    "    if np.max(label) >= len(colormap):\n",
    "        raise ValueError('label value too large.')\n",
    "\n",
    "    return colormap[label]\n",
    "\n",
    "########################### mIoU 계산 ###########################\n",
    "    \n",
    "def label_accuracy_score(hist):\n",
    "    \"\"\"\n",
    "    Returns accuracy score evaluation result.\n",
    "      - [acc]: overall accuracy\n",
    "      - [acc_cls]: mean accuracy\n",
    "      - [mean_iu]: mean IU\n",
    "      - [fwavacc]: fwavacc\n",
    "    \"\"\"\n",
    "    acc = np.diag(hist).sum() / hist.sum()\n",
    "    with np.errstate(divide='ignore', invalid='ignore'):\n",
    "        acc_cls = np.diag(hist) / hist.sum(axis=1)\n",
    "    acc_cls = np.nanmean(acc_cls)\n",
    "\n",
    "    with np.errstate(divide='ignore', invalid='ignore'):\n",
    "        iu = np.diag(hist) / (hist.sum(axis=1) + hist.sum(axis=0) - np.diag(hist))\n",
    "    mean_iu = np.nanmean(iu)\n",
    "\n",
    "    freq = hist.sum(axis=1) / hist.sum()\n",
    "    fwavacc = (freq[freq > 0] * iu[freq > 0]).sum()\n",
    "    return acc, acc_cls, mean_iu, fwavacc, iu\n",
    "\n",
    "def add_hist(hist, label_trues, label_preds, n_class):\n",
    "    for lt, lp in zip(label_trues, label_preds):\n",
    "        hist += _fast_hist(lt.flatten(), lp.flatten(), n_class)\n",
    "    return hist\n",
    "\n",
    "def _fast_hist(label_true, label_pred, n_class):\n",
    "    mask = (label_true >= 0) & (label_true < n_class)\n",
    "    hist = np.bincount(\n",
    "        n_class * label_true[mask].astype(int) +\n",
    "        label_pred[mask], minlength=n_class ** 2).reshape(n_class, n_class)\n",
    "    return hist\n",
    "        \n",
    "def draw_confusion_matrix(cf_matrix, save_dir = 'confusion_matrix.png'):\n",
    "    fig, ax = plt.subplots(figsize=(10,10))\n",
    "    a=cf_matrix.astype('float')/cf_matrix.sum(axis=1)[:, np.newaxis]\n",
    "    df_cm = pd.DataFrame(a, index = category_names, columns = category_names)\n",
    "    sns.heatmap(df_cm.round(2), annot = True, cmap = plt.cm.Blues)\n",
    "    plt.savefig(save_dir)\n",
    "    \n",
    "########################### mIoU추출 ###########################        \n",
    "\n",
    "def extract_best_mIoU(index, now_mIoU, mIoU_list, best_img_list):\n",
    "    temp_miou = []\n",
    "    temp_img = []\n",
    "    skip = True\n",
    "    for i in range(10):\n",
    "        if now_mIoU >= mIoU_list[i] and skip:\n",
    "            temp_miou.append(now_mIoU)\n",
    "            temp_img.append(index)\n",
    "            skip = False\n",
    "        temp_miou.append(mIoU_list[i])\n",
    "        temp_img.append(best_img_list[i])\n",
    "    return temp_miou[:10], temp_img[:10]\n",
    "\n",
    "\n",
    "def extract_worst_mIoU(index, now_mIoU, mIoU_list, best_img_list):\n",
    "    temp_miou = []\n",
    "    temp_img = []\n",
    "    skip = True\n",
    "    for i in range(10):\n",
    "        if now_mIoU <= mIoU_list[i] and skip:\n",
    "            temp_miou.append(now_mIoU)\n",
    "            temp_img.append(index)\n",
    "            skip = False\n",
    "        temp_miou.append(mIoU_list[i])\n",
    "        temp_img.append(best_img_list[i])\n",
    "    return temp_miou[:10], temp_img[:10]\n",
    "\n",
    "########################### Main 함수 ###########################\n",
    "\n",
    "def main(model, \n",
    "         data_dir = train_path, \n",
    "         mode = 'train',\n",
    "         n_class = 15,\n",
    "         confusion_matrix= True, \n",
    "         save_image_pred = True, \n",
    "         mIoU_print = True):\n",
    "    if mode not in ('train','val'):\n",
    "        raise print('using train or val dataset')\n",
    "    \n",
    "    mIoU_best10 = [0,0,0,0,0,0,0,0,0,0]\n",
    "    mIoU_worst10 = [99,99,99,99,99,99,99,99,99,99]\n",
    "    mIoU_best10_imageid = [0,0,0,0,0,0,0,0,0,0]\n",
    "    mIoU_worst10_imageid = [0,0,0,0,0,0,0,0,0,0]\n",
    "    \n",
    "    dataset = PoseDataset(data_dir=data_dir, mode=mode, transform=A.Compose([ToTensorV2()]))\n",
    "    loader = torch.utils.data.DataLoader(dataset=dataset, batch_size = 1, num_workers=4, collate_fn=collate_fn)    \n",
    "    \n",
    "    hist = np.zeros((n_class, n_class))\n",
    "    with torch.no_grad():\n",
    "        for index, (data) in tqdm(enumerate(loader)):\n",
    "            img_hist = np.zeros((n_class, n_class))\n",
    "            temp_images, temp_masks = data\n",
    "            model.eval()\n",
    "            \n",
    "            outs = model(torch.stack(temp_images).to(device))#['out']\n",
    "            oms = torch.argmax(outs, dim=1).detach().cpu().numpy()\n",
    "            masks = torch.stack(temp_masks).numpy()\n",
    "            \n",
    "            if mode in ('train','val') and confusion_matrix:\n",
    "                if index == 0 : \n",
    "                    cf_matrix = sklearn.metrics.confusion_matrix(np.ndarray.flatten(masks),\n",
    "                                                  np.ndarray.flatten(oms[0]),\n",
    "                                                  labels=list(range(n_class)))\n",
    "                else : \n",
    "                    cf_matrix += sklearn.metrics.confusion_matrix(np.ndarray.flatten(masks),\n",
    "                                                  np.ndarray.flatten(oms[0]),\n",
    "                                                  labels=list(range(n_class)))\n",
    "                    \n",
    "            if mIoU_print:\n",
    "                \n",
    "                img_hist = add_hist(img_hist, masks, oms, n_class=n_class)\n",
    "                img_hist = add_hist(img_hist, masks, oms, n_class=n_class)\n",
    "                hist = add_hist(hist, masks, oms, n_class=n_class)\n",
    "                _, _, img_mIoU, _, _ = label_accuracy_score(img_hist)\n",
    "                \n",
    "                if img_mIoU > mIoU_best10[-1]: \n",
    "                    mIoU_best10,mIoU_best10_imageid = extract_best_mIoU(index,img_mIoU,mIoU_best10,mIoU_best10_imageid)\n",
    "                if img_mIoU < mIoU_worst10[-1]: \n",
    "                    mIoU_worst10,mIoU_worst10_imageid = extract_worst_mIoU(index,img_mIoU,mIoU_worst10,mIoU_worst10_imageid)\n",
    "                    \n",
    "        if confusion_matrix:\n",
    "            draw_confusion_matrix(cf_matrix,'confusion_matrix.png')\n",
    "\n",
    "        if mIoU_print:\n",
    "            _, _, mIoU, _, _ = label_accuracy_score(hist)\n",
    "    \n",
    "    return mIoU, mIoU_best10, mIoU_best10_imageid, mIoU_worst10, mIoU_worst10_imageid"
   ]
  },
  {
   "cell_type": "code",
   "execution_count": 42,
   "id": "568b4613-91a5-4bca-bc4e-2c2b7bf04d40",
   "metadata": {},
   "outputs": [],
   "source": [
    "dataset = PoseDataset(data_dir='data/train', mode='train', transform=A.Compose([ToTensorV2()]))\n",
    "loader = torch.utils.data.DataLoader(dataset=dataset, batch_size = 1, num_workers=4, collate_fn=collate_fn)  "
   ]
  },
  {
   "cell_type": "code",
   "execution_count": 57,
   "id": "d2e71095-bb43-4e03-97af-0bdcdb5ce348",
   "metadata": {},
   "outputs": [
    {
     "data": {
      "text/plain": [
       "22.727272727272727"
      ]
     },
     "execution_count": 57,
     "metadata": {},
     "output_type": "execute_result"
    }
   ],
   "source": [
    "100/4.4\n"
   ]
  },
  {
   "cell_type": "code",
   "execution_count": 56,
   "id": "1d197a8a-e71c-49ed-8afc-019de3ec1c97",
   "metadata": {},
   "outputs": [
    {
     "data": {
      "text/plain": [
       "tensor([[[ 27,  28,  29,  ..., 112, 139,  90],\n",
       "         [ 27,  25,  25,  ..., 193, 212,  50],\n",
       "         [ 29,  25,  26,  ..., 199, 168,  52],\n",
       "         ...,\n",
       "         [155, 165, 178,  ..., 148, 142, 144],\n",
       "         [170, 152, 143,  ..., 155, 156, 152],\n",
       "         [167, 163, 163,  ..., 149, 152, 147]],\n",
       "\n",
       "        [[ 25,  25,  23,  ..., 127, 155, 111],\n",
       "         [ 25,  20,  19,  ..., 210, 231,  74],\n",
       "         [ 25,  20,  19,  ..., 221, 189,  77],\n",
       "         ...,\n",
       "         [155, 165, 176,  ..., 144, 138, 140],\n",
       "         [170, 152, 141,  ..., 151, 152, 147],\n",
       "         [167, 163, 161,  ..., 145, 147, 142]],\n",
       "\n",
       "        [[ 24,  21,  18,  ..., 119, 148, 103],\n",
       "         [ 24,  17,  14,  ..., 201, 222,  64],\n",
       "         [ 24,  17,  16,  ..., 209, 180,  67],\n",
       "         ...,\n",
       "         [155, 165, 176,  ..., 143, 137, 139],\n",
       "         [170, 152, 141,  ..., 150, 151, 148],\n",
       "         [167, 163, 161,  ..., 144, 148, 143]]], dtype=torch.uint8)"
      ]
     },
     "execution_count": 56,
     "metadata": {},
     "output_type": "execute_result"
    }
   ],
   "source": [
    "loader.__iter__().__next__()[0][0]"
   ]
  },
  {
   "cell_type": "code",
   "execution_count": null,
   "id": "4600a537-cd10-429b-96eb-360a4af4a2c2",
   "metadata": {},
   "outputs": [],
   "source": []
  },
  {
   "cell_type": "code",
   "execution_count": 40,
   "id": "9dc26836-1998-46f1-84d4-b6ea12d59a4f",
   "metadata": {},
   "outputs": [],
   "source": [
    "model = getattr(smp, 'Unet')(\n",
    "    encoder_name= \"timm-tf_efficientnet_lite4\", # choose encoder, e.g. mobilenet_v2 or efficientnet-b7\n",
    "    encoder_weights=\"imagenet\",     # use `imagenet` pre-trained weights for encoder initialization\n",
    "    in_channels=3,                  # model input channels (1 for gray-scale images, 3 for RGB, etc.)\n",
    "    classes=15,                     # model output channels (number of classes in your dataset)\n",
    ")"
   ]
  },
  {
   "cell_type": "code",
   "execution_count": null,
   "id": "ec892e22-192c-49f8-a4ec-ea511458066e",
   "metadata": {},
   "outputs": [],
   "source": []
  },
  {
   "cell_type": "code",
   "execution_count": 39,
   "id": "a90af570-d0f4-4c26-b936-f3844bb88f53",
   "metadata": {
    "tags": []
   },
   "outputs": [
    {
     "name": "stderr",
     "output_type": "stream",
     "text": [
      "GPU available: True, used: True\n",
      "TPU available: False, using: 0 TPU cores\n",
      "IPU available: False, using: 0 IPUs\n"
     ]
    },
    {
     "ename": "ValueError",
     "evalue": "Expected a parent",
     "output_type": "error",
     "traceback": [
      "\u001b[0;31m---------------------------------------------------------------------------\u001b[0m",
      "\u001b[0;31mValueError\u001b[0m                                Traceback (most recent call last)",
      "\u001b[0;32m/tmp/ipykernel_27/1316266328.py\u001b[0m in \u001b[0;36m<module>\u001b[0;34m\u001b[0m\n\u001b[1;32m      3\u001b[0m \u001b[0mtrainer\u001b[0m \u001b[0;34m=\u001b[0m  \u001b[0mpl\u001b[0m\u001b[0;34m.\u001b[0m\u001b[0mTrainer\u001b[0m\u001b[0;34m(\u001b[0m\u001b[0mgpus\u001b[0m\u001b[0;34m=\u001b[0m\u001b[0;36m1\u001b[0m\u001b[0;34m,\u001b[0m\u001b[0mcallbacks\u001b[0m\u001b[0;34m=\u001b[0m\u001b[0;34m[\u001b[0m\u001b[0mcheckpoint_callback\u001b[0m\u001b[0;34m]\u001b[0m\u001b[0;34m)\u001b[0m\u001b[0;34m\u001b[0m\u001b[0;34m\u001b[0m\u001b[0m\n\u001b[1;32m      4\u001b[0m \u001b[0mmodel\u001b[0m \u001b[0;34m=\u001b[0m \u001b[0mmodel\u001b[0m\u001b[0;34m.\u001b[0m\u001b[0mto\u001b[0m\u001b[0;34m(\u001b[0m\u001b[0mdevice\u001b[0m\u001b[0;34m)\u001b[0m\u001b[0;34m\u001b[0m\u001b[0;34m\u001b[0m\u001b[0m\n\u001b[0;32m----> 5\u001b[0;31m \u001b[0mtrainer\u001b[0m\u001b[0;34m.\u001b[0m\u001b[0mfit\u001b[0m\u001b[0;34m(\u001b[0m\u001b[0mmodel\u001b[0m\u001b[0;34m)\u001b[0m\u001b[0;34m\u001b[0m\u001b[0;34m\u001b[0m\u001b[0m\n\u001b[0m",
      "\u001b[0;32m/opt/conda/envs/nunbody/lib/python3.8/site-packages/pytorch_lightning/trainer/trainer.py\u001b[0m in \u001b[0;36mfit\u001b[0;34m(self, model, train_dataloaders, val_dataloaders, datamodule, train_dataloader, ckpt_path)\u001b[0m\n\u001b[1;32m    733\u001b[0m             )\n\u001b[1;32m    734\u001b[0m             \u001b[0mtrain_dataloaders\u001b[0m \u001b[0;34m=\u001b[0m \u001b[0mtrain_dataloader\u001b[0m\u001b[0;34m\u001b[0m\u001b[0;34m\u001b[0m\u001b[0m\n\u001b[0;32m--> 735\u001b[0;31m         self._call_and_handle_interrupt(\n\u001b[0m\u001b[1;32m    736\u001b[0m             \u001b[0mself\u001b[0m\u001b[0;34m.\u001b[0m\u001b[0m_fit_impl\u001b[0m\u001b[0;34m,\u001b[0m \u001b[0mmodel\u001b[0m\u001b[0;34m,\u001b[0m \u001b[0mtrain_dataloaders\u001b[0m\u001b[0;34m,\u001b[0m \u001b[0mval_dataloaders\u001b[0m\u001b[0;34m,\u001b[0m \u001b[0mdatamodule\u001b[0m\u001b[0;34m,\u001b[0m \u001b[0mckpt_path\u001b[0m\u001b[0;34m\u001b[0m\u001b[0;34m\u001b[0m\u001b[0m\n\u001b[1;32m    737\u001b[0m         )\n",
      "\u001b[0;32m/opt/conda/envs/nunbody/lib/python3.8/site-packages/pytorch_lightning/trainer/trainer.py\u001b[0m in \u001b[0;36m_call_and_handle_interrupt\u001b[0;34m(self, trainer_fn, *args, **kwargs)\u001b[0m\n\u001b[1;32m    680\u001b[0m         \"\"\"\n\u001b[1;32m    681\u001b[0m         \u001b[0;32mtry\u001b[0m\u001b[0;34m:\u001b[0m\u001b[0;34m\u001b[0m\u001b[0;34m\u001b[0m\u001b[0m\n\u001b[0;32m--> 682\u001b[0;31m             \u001b[0;32mreturn\u001b[0m \u001b[0mtrainer_fn\u001b[0m\u001b[0;34m(\u001b[0m\u001b[0;34m*\u001b[0m\u001b[0margs\u001b[0m\u001b[0;34m,\u001b[0m \u001b[0;34m**\u001b[0m\u001b[0mkwargs\u001b[0m\u001b[0;34m)\u001b[0m\u001b[0;34m\u001b[0m\u001b[0;34m\u001b[0m\u001b[0m\n\u001b[0m\u001b[1;32m    683\u001b[0m         \u001b[0;31m# TODO: treat KeyboardInterrupt as BaseException (delete the code below) in v1.7\u001b[0m\u001b[0;34m\u001b[0m\u001b[0;34m\u001b[0m\u001b[0;34m\u001b[0m\u001b[0m\n\u001b[1;32m    684\u001b[0m         \u001b[0;32mexcept\u001b[0m \u001b[0mKeyboardInterrupt\u001b[0m \u001b[0;32mas\u001b[0m \u001b[0mexception\u001b[0m\u001b[0;34m:\u001b[0m\u001b[0;34m\u001b[0m\u001b[0;34m\u001b[0m\u001b[0m\n",
      "\u001b[0;32m/opt/conda/envs/nunbody/lib/python3.8/site-packages/pytorch_lightning/trainer/trainer.py\u001b[0m in \u001b[0;36m_fit_impl\u001b[0;34m(self, model, train_dataloaders, val_dataloaders, datamodule, ckpt_path)\u001b[0m\n\u001b[1;32m    768\u001b[0m         \u001b[0;31m# TODO: ckpt_path only in v1.7\u001b[0m\u001b[0;34m\u001b[0m\u001b[0;34m\u001b[0m\u001b[0;34m\u001b[0m\u001b[0m\n\u001b[1;32m    769\u001b[0m         \u001b[0mckpt_path\u001b[0m \u001b[0;34m=\u001b[0m \u001b[0mckpt_path\u001b[0m \u001b[0;32mor\u001b[0m \u001b[0mself\u001b[0m\u001b[0;34m.\u001b[0m\u001b[0mresume_from_checkpoint\u001b[0m\u001b[0;34m\u001b[0m\u001b[0;34m\u001b[0m\u001b[0m\n\u001b[0;32m--> 770\u001b[0;31m         \u001b[0mself\u001b[0m\u001b[0;34m.\u001b[0m\u001b[0m_run\u001b[0m\u001b[0;34m(\u001b[0m\u001b[0mmodel\u001b[0m\u001b[0;34m,\u001b[0m \u001b[0mckpt_path\u001b[0m\u001b[0;34m=\u001b[0m\u001b[0mckpt_path\u001b[0m\u001b[0;34m)\u001b[0m\u001b[0;34m\u001b[0m\u001b[0;34m\u001b[0m\u001b[0m\n\u001b[0m\u001b[1;32m    771\u001b[0m \u001b[0;34m\u001b[0m\u001b[0m\n\u001b[1;32m    772\u001b[0m         \u001b[0;32massert\u001b[0m \u001b[0mself\u001b[0m\u001b[0;34m.\u001b[0m\u001b[0mstate\u001b[0m\u001b[0;34m.\u001b[0m\u001b[0mstopped\u001b[0m\u001b[0;34m\u001b[0m\u001b[0;34m\u001b[0m\u001b[0m\n",
      "\u001b[0;32m/opt/conda/envs/nunbody/lib/python3.8/site-packages/pytorch_lightning/trainer/trainer.py\u001b[0m in \u001b[0;36m_run\u001b[0;34m(self, model, ckpt_path)\u001b[0m\n\u001b[1;32m   1113\u001b[0m             \u001b[0mparsing\u001b[0m\u001b[0;34m.\u001b[0m\u001b[0mclean_namespace\u001b[0m\u001b[0;34m(\u001b[0m\u001b[0mmodel\u001b[0m\u001b[0;34m.\u001b[0m\u001b[0mhparams\u001b[0m\u001b[0;34m)\u001b[0m\u001b[0;34m\u001b[0m\u001b[0;34m\u001b[0m\u001b[0m\n\u001b[1;32m   1114\u001b[0m \u001b[0;34m\u001b[0m\u001b[0m\n\u001b[0;32m-> 1115\u001b[0;31m         \u001b[0mverify_loop_configurations\u001b[0m\u001b[0;34m(\u001b[0m\u001b[0mself\u001b[0m\u001b[0;34m,\u001b[0m \u001b[0mmodel\u001b[0m\u001b[0;34m)\u001b[0m\u001b[0;34m\u001b[0m\u001b[0;34m\u001b[0m\u001b[0m\n\u001b[0m\u001b[1;32m   1116\u001b[0m \u001b[0;34m\u001b[0m\u001b[0m\n\u001b[1;32m   1117\u001b[0m         \u001b[0;31m# attach model log function to callback\u001b[0m\u001b[0;34m\u001b[0m\u001b[0;34m\u001b[0m\u001b[0;34m\u001b[0m\u001b[0m\n",
      "\u001b[0;32m/opt/conda/envs/nunbody/lib/python3.8/site-packages/pytorch_lightning/trainer/configuration_validator.py\u001b[0m in \u001b[0;36mverify_loop_configurations\u001b[0;34m(trainer, model)\u001b[0m\n\u001b[1;32m     30\u001b[0m     \"\"\"\n\u001b[1;32m     31\u001b[0m     \u001b[0;32mif\u001b[0m \u001b[0mtrainer\u001b[0m\u001b[0;34m.\u001b[0m\u001b[0mstate\u001b[0m\u001b[0;34m.\u001b[0m\u001b[0mfn\u001b[0m \u001b[0;32min\u001b[0m \u001b[0;34m(\u001b[0m\u001b[0mTrainerFn\u001b[0m\u001b[0;34m.\u001b[0m\u001b[0mFITTING\u001b[0m\u001b[0;34m,\u001b[0m \u001b[0mTrainerFn\u001b[0m\u001b[0;34m.\u001b[0m\u001b[0mTUNING\u001b[0m\u001b[0;34m)\u001b[0m\u001b[0;34m:\u001b[0m\u001b[0;34m\u001b[0m\u001b[0;34m\u001b[0m\u001b[0m\n\u001b[0;32m---> 32\u001b[0;31m         \u001b[0m__verify_train_val_loop_configuration\u001b[0m\u001b[0;34m(\u001b[0m\u001b[0mtrainer\u001b[0m\u001b[0;34m,\u001b[0m \u001b[0mmodel\u001b[0m\u001b[0;34m)\u001b[0m\u001b[0;34m\u001b[0m\u001b[0;34m\u001b[0m\u001b[0m\n\u001b[0m\u001b[1;32m     33\u001b[0m         \u001b[0m__verify_manual_optimization_support\u001b[0m\u001b[0;34m(\u001b[0m\u001b[0mtrainer\u001b[0m\u001b[0;34m,\u001b[0m \u001b[0mmodel\u001b[0m\u001b[0;34m)\u001b[0m\u001b[0;34m\u001b[0m\u001b[0;34m\u001b[0m\u001b[0m\n\u001b[1;32m     34\u001b[0m         \u001b[0m__check_training_step_requires_dataloader_iter\u001b[0m\u001b[0;34m(\u001b[0m\u001b[0mmodel\u001b[0m\u001b[0;34m)\u001b[0m\u001b[0;34m\u001b[0m\u001b[0;34m\u001b[0m\u001b[0m\n",
      "\u001b[0;32m/opt/conda/envs/nunbody/lib/python3.8/site-packages/pytorch_lightning/trainer/configuration_validator.py\u001b[0m in \u001b[0;36m__verify_train_val_loop_configuration\u001b[0;34m(trainer, model)\u001b[0m\n\u001b[1;32m     56\u001b[0m     \u001b[0;31m# verify model has a training step\u001b[0m\u001b[0;34m\u001b[0m\u001b[0;34m\u001b[0m\u001b[0;34m\u001b[0m\u001b[0m\n\u001b[1;32m     57\u001b[0m     \u001b[0;31m# -----------------------------------\u001b[0m\u001b[0;34m\u001b[0m\u001b[0;34m\u001b[0m\u001b[0;34m\u001b[0m\u001b[0m\n\u001b[0;32m---> 58\u001b[0;31m     \u001b[0mhas_training_step\u001b[0m \u001b[0;34m=\u001b[0m \u001b[0mis_overridden\u001b[0m\u001b[0;34m(\u001b[0m\u001b[0;34m\"training_step\"\u001b[0m\u001b[0;34m,\u001b[0m \u001b[0mmodel\u001b[0m\u001b[0;34m)\u001b[0m\u001b[0;34m\u001b[0m\u001b[0;34m\u001b[0m\u001b[0m\n\u001b[0m\u001b[1;32m     59\u001b[0m     \u001b[0;32mif\u001b[0m \u001b[0;32mnot\u001b[0m \u001b[0mhas_training_step\u001b[0m\u001b[0;34m:\u001b[0m\u001b[0;34m\u001b[0m\u001b[0;34m\u001b[0m\u001b[0m\n\u001b[1;32m     60\u001b[0m         raise MisconfigurationException(\n",
      "\u001b[0;32m/opt/conda/envs/nunbody/lib/python3.8/site-packages/pytorch_lightning/utilities/model_helpers.py\u001b[0m in \u001b[0;36mis_overridden\u001b[0;34m(method_name, instance, parent, model)\u001b[0m\n\u001b[1;32m     45\u001b[0m             \u001b[0mparent\u001b[0m \u001b[0;34m=\u001b[0m \u001b[0mpl\u001b[0m\u001b[0;34m.\u001b[0m\u001b[0mCallback\u001b[0m\u001b[0;34m\u001b[0m\u001b[0;34m\u001b[0m\u001b[0m\n\u001b[1;32m     46\u001b[0m         \u001b[0;32mif\u001b[0m \u001b[0mparent\u001b[0m \u001b[0;32mis\u001b[0m \u001b[0;32mNone\u001b[0m\u001b[0;34m:\u001b[0m\u001b[0;34m\u001b[0m\u001b[0;34m\u001b[0m\u001b[0m\n\u001b[0;32m---> 47\u001b[0;31m             \u001b[0;32mraise\u001b[0m \u001b[0mValueError\u001b[0m\u001b[0;34m(\u001b[0m\u001b[0;34m\"Expected a parent\"\u001b[0m\u001b[0;34m)\u001b[0m\u001b[0;34m\u001b[0m\u001b[0;34m\u001b[0m\u001b[0m\n\u001b[0m\u001b[1;32m     48\u001b[0m \u001b[0;34m\u001b[0m\u001b[0m\n\u001b[1;32m     49\u001b[0m     \u001b[0minstance_attr\u001b[0m \u001b[0;34m=\u001b[0m \u001b[0mgetattr\u001b[0m\u001b[0;34m(\u001b[0m\u001b[0minstance\u001b[0m\u001b[0;34m,\u001b[0m \u001b[0mmethod_name\u001b[0m\u001b[0;34m,\u001b[0m \u001b[0;32mNone\u001b[0m\u001b[0;34m)\u001b[0m\u001b[0;34m\u001b[0m\u001b[0;34m\u001b[0m\u001b[0m\n",
      "\u001b[0;31mValueError\u001b[0m: Expected a parent"
     ]
    }
   ],
   "source": [
    "model_path = 'saved/Unet_timm-tf_efficientnet_lite4/Unet_timm-tf_efficientnet_lite4-epoch=10-val/mIoU=0.05.ckpt' \n",
    "\n",
    "checkpoint_callback = ModelCheckpoint(dirpath=model_path)\n",
    "trainer =  pl.Trainer(gpus=1,callbacks=[checkpoint_callback])\n",
    "model = model.to(device)\n",
    "trainer.fit(model)"
   ]
  },
  {
   "cell_type": "code",
   "execution_count": 37,
   "id": "bc023e5d-93fd-4370-be21-b9c8dd3a0a63",
   "metadata": {
    "tags": []
   },
   "outputs": [],
   "source": [
    "model_path = 'saved/Unet_timm-tf_efficientnet_lite4/Unet_timm-tf_efficientnet_lite4-epoch=10-val/mIoU=0.05.ckpt' \n",
    "# data = torch.load(model_path)\n",
    "# torch.save(data.type(torch.uint8),'deeplabv3+.pt') \n",
    "# data = torch.load('deeplabv3+.pt')\n",
    "\n",
    "# # best model 불러오기\n",
    "# checkpoint = torch.load(model_path, map_location=device)\n",
    "# # state_dict = checkpoint['state_dict']\n",
    "# model.load_state_dict(state_dict)\n",
    "\n",
    "model = model.to(device)"
   ]
  },
  {
   "cell_type": "code",
   "execution_count": 10,
   "id": "756f4659-d59e-428a-b485-8e75bbd0f64c",
   "metadata": {},
   "outputs": [
    {
     "name": "stdout",
     "output_type": "stream",
     "text": [
      "loading annotations into memory...\n",
      "Done (t=4.11s)\n",
      "creating index...\n",
      "index created!\n"
     ]
    },
    {
     "name": "stderr",
     "output_type": "stream",
     "text": [
      "2617it [03:14, 13.71it/s]\n"
     ]
    },
    {
     "data": {
      "image/png": "[encoded data removed]",
      "text/plain": [
       "<Figure size 720x720 with 2 Axes>"
      ]
     },
     "metadata": {
      "needs_background": "light"
     },
     "output_type": "display_data"
    }
   ],
   "source": [
    "# parser = argparse.ArgumentParser()\n",
    "# parser.add_argument('--archi', type=str, default='unet')\n",
    "# parser.add_argument('--backbone', type=str, default='efficientnet-b0')\n",
    "# parser.add_argument('--pretrained_weights', type=str, default='imagenet')\n",
    "# args = parser.parse_args()\n",
    "\n",
    "# model = SmpModel(args)\n",
    "\n",
    "\n",
    "\n",
    "mIoU, mIoU_best10, mIoU_best10_imageid, mIoU_worst10, mIoU_worst10_imageid = main(model, val_path, mode = 'train')\n",
    "# plot_examples(mode=\"val\",data_dir=val_path,image_id = mIoU_best10_imageid,image_save_path = 'save_best_mIoU10')\n",
    "# plot_examples(mode=\"val\",data_dir=val_path,image_id = mIoU_worst10_imageid,image_save_path = 'save_worst_mIoU10')\n",
    "# plot_examples(mode=\"val\",data_dir=val_path,image_id = None,image_save_path = 'train_random_sample_10')\n",
    "# plot_examples(mode=\"test\",data_dir=test_path,image_id = None,image_save_path = 'test_random_sample_10')\n",
    "\n",
    "# inputs = torch.randn(1, 3, 512, 512)\n",
    "# summary(model, (inputs.shape))\n",
    "# print()"
   ]
  },
  {
   "cell_type": "code",
   "execution_count": null,
   "id": "64d84c70-021c-4946-ad47-7330f75ec8ba",
   "metadata": {},
   "outputs": [],
   "source": []
  }
 ],
 "metadata": {
  "kernelspec": {
   "display_name": "nunbody",
   "language": "python",
   "name": "nunbody"
  },
  "language_info": {
   "codemirror_mode": {
    "name": "ipython",
    "version": 3
   },
   "file_extension": ".py",
   "mimetype": "text/x-python",
   "name": "python",
   "nbconvert_exporter": "python",
   "pygments_lexer": "ipython3",
   "version": "3.8.8"
  }
 },
 "nbformat": 4,
 "nbformat_minor": 5
}
