{
 "cells": [
  {
   "cell_type": "code",
   "execution_count": 3,
   "id": "f3dadc2e-5270-4d16-98ce-466325c55854",
   "metadata": {},
   "outputs": [],
   "source": [
    "import pytorch_lightning as pl"
   ]
  },
  {
   "cell_type": "code",
   "execution_count": 5,
   "id": "f26cd56b-47a9-4061-9c9e-23fedf992ed7",
   "metadata": {},
   "outputs": [
    {
     "data": {
      "text/plain": [
       "'1.5.0'"
      ]
     },
     "execution_count": 5,
     "metadata": {},
     "output_type": "execute_result"
    }
   ],
   "source": [
    "pl.__version__"
   ]
  },
  {
   "cell_type": "code",
   "execution_count": null,
   "id": "2329aef9-d0f2-4c3c-9422-9e8f181656dd",
   "metadata": {},
   "outputs": [],
   "source": [
    "import os\n",
    "import argparse\n",
    "import wandb\n",
    "import pytorch_lightning as pl\n",
    "from transform import make_transform\n",
    "from model import SmpModel\n",
    "\n",
    "parser = argparse.ArgumentParser()\n",
    "\n",
    "parser.add_argument('--seed', type=int, default=42)\n",
    "parser.add_argument('--train_datadir', type=str, default='data/train')\n",
    "parser.add_argument('--val_datadir', type=str, default='data/val')\n",
    "parser.add_argument('--test_datadir', type=str, default='test')\n",
    "\n",
    "parser.add_argument('--gpus', type=int, default=1)\n",
    "parser.add_argument('--archi', type=str, default='Unet')\n",
    "parser.add_argument('--backbone', type=str, default='efficientnet-b6')\n",
    "parser.add_argument('--pretrained_weights', type=str, default='imagenet')\n",
    "parser.add_argument('--fp16', type=bool, default=True)\n",
    "parser.add_argument('--num_workers', type=int, default=4)\n",
    "\n",
    "parser.add_argument('--img_size', type=int, default=512)\n",
    "parser.add_argument('--batch_size', type=int, default=16)\n",
    "parser.add_argument('--epochs', type=int, default=100)\n",
    "parser.add_argument('--auto_batch_size', type=bool, default=False)\n",
    "parser.add_argument('--learning_rate', type=float, default=0.0001)\n",
    "parser.add_argument('--optimizer', type=str, default='adam')\n",
    "parser.add_argument('--scheduler', type=str, default='reducelr')\n",
    "parser.add_argument('--loss', type=str, default='ce')\n",
    "\n",
    "parser.add_argument('--RandomBrightnessContrast', type=float, default=0)\n",
    "parser.add_argument('--HueSaturationValue', type=float, default=0)\n",
    "parser.add_argument('--RGBShift', type=float, default=0)\n",
    "parser.add_argument('--RandomGamma', type=float, default=0)\n",
    "parser.add_argument('--HorizontalFlip', type=float, default=0)\n",
    "parser.add_argument('--VerticalFlip', type=float, default=0)\n",
    "parser.add_argument('--ImageCompression', type=float, default=0)\n",
    "parser.add_argument('--ShiftScaleRotate', type=float, default=0)\n",
    "parser.add_argument('--ShiftScaleRotateMode', type=int, default=4) # Constant, Replicate, Reflect, Wrap, Reflect101\n",
    "parser.add_argument('--Downscale', type=float, default=0)\n",
    "parser.add_argument('--GridDistortion', type=float, default=0)\n",
    "parser.add_argument('--MotionBlur', type=float, default=0)\n",
    "parser.add_argument('--RandomResizedCrop', type=float, default=0)\n",
    "parser.add_argument('--CLAHE', type=float, default=0)\n",
    "\n",
    "args = parser.parse_args()\n",
    "\n",
    "if __name__ == '__main__':\n",
    "    pl.seed_everything(args.seed)\n",
    "    \n",
    "    train_transform, val_transform = make_transform(args)\n",
    "    \n",
    "    train_ds = PoseDataset(args.train_datadir, mode='train', transform=transforms)\n",
    "    val_ds = PoseDataset(args.val_datadir, mode='val', transform=transforms)\n",
    "    \n",
    "    model = SmpModel(args, train_transform, val_transform)\n",
    "    \n",
    "\n",
    "\n"
   ]
  },
  {
   "cell_type": "code",
   "execution_count": null,
   "id": "1a0efcea-ebe6-4f7c-892f-a5679ddb1b6a",
   "metadata": {},
   "outputs": [],
   "source": []
  }
 ],
 "metadata": {
  "kernelspec": {
   "display_name": "nunbody",
   "language": "python",
   "name": "nunbody"
  },
  "language_info": {
   "codemirror_mode": {
    "name": "ipython",
    "version": 3
   },
   "file_extension": ".py",
   "mimetype": "text/x-python",
   "name": "python",
   "nbconvert_exporter": "python",
   "pygments_lexer": "ipython3",
   "version": "3.8.8"
  }
 },
 "nbformat": 4,
 "nbformat_minor": 5
}
